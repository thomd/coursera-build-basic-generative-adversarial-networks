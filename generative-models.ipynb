{
 "cells": [
  {
   "cell_type": "markdown",
   "id": "ac1451fe-9c74-4819-898d-d37cee813ae2",
   "metadata": {},
   "source": [
    "# Generative Models\n",
    "\n",
    "## Discriminative Models\n",
    "\n",
    "**Discriminative models** are typically used for **classification** in machine learning. They learn how to **distinguish between classes** $Y$ given a set of **features** $X$:\n",
    "\n",
    "$$\n",
    "X \\to Y\n",
    "$$\n",
    "\n",
    "In other words, they model a **probability** $P$ of a class $Y$ given a set of features $X$:\n",
    "\n",
    "$$\n",
    "P(Y|X)\n",
    "$$"
   ]
  },
  {
   "cell_type": "markdown",
   "id": "8e0a9eda-7e00-483e-9b02-da8080f82896",
   "metadata": {},
   "source": [
    "## Generative Models\n",
    "\n",
    "**Generative models** try to learn how to make a **realistic representation** of some class: \n",
    "\n",
    "$$\n",
    "\\xi, Y \\to X\n",
    "$$\n",
    "\n",
    "They take some **random noise** input $\\xi$ (greek letter 'xi') and sometimes a **class** $Y$. From these inputs, it's goal is to generate a set of **features** $X$ that look realistic. The noise is to ensure that what's generated isn't actually the same each time.\n",
    "\n",
    "More generally, generative models try to capture the **probability distribution** of the **features** $X$ given a **class** $Y$:\n",
    "\n",
    "$$\n",
    "P(X|Y)\n",
    "$$\n",
    "\n",
    "If you're only generating **one class**, it's just the probability over all the features $X$:\n",
    "\n",
    "$$\n",
    "P(X)\n",
    "$$\n",
    "\n",
    "### Variational Autoencoders - VAE\n",
    "\n",
    "There are many types of generative models, the most popular ones are **variational autoencoders** (VAE) and **generative adversarial networks** (GAN).\n",
    "\n",
    "VAEs contain two neural networks, an **encoder** and a **decoder**. They learn first by feeding in realistic images into the encoder to find a good way of representing that image in a **latent space**. A point in the latent space can be represented by a **vector**.\n",
    "\n",
    "The VAE takes this latent representation, or a point close to it, and put it through the **decoder**. The goal of the decoder is to reconstruct the realistic image that the encoder saw before. \n",
    "\n",
    "After training of the decoder, we remove the encoder and we can pick random points in the latent space, and the decoder will have learned to produce an image of a dog. \n",
    "\n",
    "The **variational** part actually inject **some noise** into this whole model and training process. Instead of having the encoder encode the image into a single point in that latent space, the encoder actually encodes the image onto a whole **distribution** and then samples a point on that distribution to feed into the decoder to then produce a realistic image.\n",
    "\n",
    "A good distribution over the latent space is important for VAEs. \n",
    "\n",
    "### Generative Adversarial Networks - GAN\n",
    "\n",
    "The **generator** takes in some random noise input. As an output it generate an image over time. The **generator** is in some sense similar to the **decoder in a VAE**. What's different is that there's no guiding encoder that determines what the noise vector should look like, that's input into the generator. \n",
    "\n",
    "Instead, there's a discriminator looking at **fake** and **real** images trying to figure out which ones are real and which ones are fake. Over time, each model tries to one up each other. These models compete against each other which is why they're called **adversarial**.\n",
    "\n",
    "The two models compete with each other and reach a point where realistic examples are produced by the generator."
   ]
  },
  {
   "cell_type": "markdown",
   "id": "13c54732-7fe3-43b1-afb7-e0c498bc6b43",
   "metadata": {},
   "source": [
    "## BCE Cost Function\n",
    "\n",
    "The **Binary Cross Entropy** function (BCE) is used for training GANs. It's useful for these models, because it is designed for classification tasks, where there are **two categories** like real and fake.\n",
    "\n",
    "The BCE calculates as\n",
    "\n",
    "$$\n",
    "\\begin{align}\n",
    "J(\\theta) &= -\\frac{1}{m} \\sum_{i=1}^m \\big(y_i \\, log(\\hat{y}_i) + (1 - y_i) \\, log(1 - \\hat{y}_i)\\big) \\\\\n",
    "&= -\\frac{1}{m} \\sum_{i=1}^m \\big(y_i \\, log(h(x_i, \\theta)) + (1 - y_i \\, log(1 - h(x_i, \\theta))\\big)\n",
    "\\end{align}\n",
    "$$\n",
    "\n",
    "with the number of examples $m$ in the entire **batch**, the **prediction** $\\hat{y}$ of a particular batch, the **label** $y$ of a particular batch, the **features** $x$ and the **parameters** $\\theta$"
   ]
  },
  {
   "cell_type": "code",
   "execution_count": 1,
   "id": "1f1646a9-7bfa-4826-8932-3ff82bb62281",
   "metadata": {},
   "outputs": [
    {
     "data": {
      "image/png": "[encoded data removed]",
      "text/plain": [
       "<Figure size 432x288 with 1 Axes>"
      ]
     },
     "metadata": {
      "needs_background": "light"
     },
     "output_type": "display_data"
    }
   ],
   "source": [
    "import numpy as np\n",
    "import matplotlib.pyplot as plt\n",
    "\n",
    "y_hat = np.linspace(0, 1, 200)[1:-1]\n",
    "bce = lambda y, y_hat: - y * np.log2(y_hat) - (1 - y) * np.log2(1 - y_hat)\n",
    "\n",
    "plt.xlabel(r'Prediction $\\hat{y}$', fontsize=14)\n",
    "plt.ylabel('BCE Loss', fontsize=14)\n",
    "plt.plot(y_hat, bce(0, y_hat), label=r'$y = 0$')\n",
    "plt.plot(y_hat, bce(1, y_hat), label=r'$y = 1$')\n",
    "plt.legend(fontsize='large');"
   ]
  },
  {
   "cell_type": "markdown",
   "id": "e1e2aabc-62a2-4a0a-9d94-68ce61164483",
   "metadata": {},
   "source": [
    "The BCE function has two parts, one relevant for each **class** label. Therefore the **batch** can contain labels $y=0$ and $y=1$.\n",
    "\n",
    "It is close to **zero**, when label $y$ and prediction $\\hat{y}$ are **similar**. It is **infinity**, when the label $y$ and prediction $\\hat{y}$ are **different**."
   ]
  },
  {
   "cell_type": "markdown",
   "id": "e3a14dbf-5df6-4d3d-88df-e35f5599a0ce",
   "metadata": {},
   "source": [
    "## Train the GAN\n",
    "\n",
    "The **discriminator** wants the fake examples to seem **as fake as possible** ($y = 0$) by comparing with real examples ($y = 1$). \n",
    "\n",
    "The **generator** wants fake examples to seem **as real as possible** ($y = 1$). That is, it wants to fool the discriminator. \n",
    "\n",
    "So as you **alternate** their **training**, only one model is trained at a time, while the other one is held constant.\n",
    "\n",
    "The two models should always be at a **similar \"skill\"-level**. Supposed you have a **superior discriminator** which is 100% sure on detecting a fake example, he can't tell the **generator** on how to improve.\n",
    "\n",
    "![GAN Architecture](images/gan_architecture.svg)"
   ]
  },
  {
   "cell_type": "markdown",
   "id": "6a763e8a-96e3-4284-81c0-0d26c06e7a87",
   "metadata": {},
   "source": [
    "### Train the Discriminator\n",
    "\n",
    "The discriminator is simply a **binary classifier** with two classes: **real** and **fake**. Given an input $X$, the discriminator will calculate the probabilities $p(Y=real|X)$ and $p(Y=fake|X)$ and classify $X$.\n",
    "\n",
    "#### Model Architecture\n",
    "\n",
    "The noise $\\xi$ generates fake examples $\\hat{X}$ (features). Then both, the fake examples $\\hat{X}$ and the real examples $X$ are passed into the **discriminator** without telling the discriminator which ones are real and which ones are fake.\n",
    "\n",
    "Then the **discriminator** makes **predictions** $\\hat{Y}$ of which ones are real and which ones are fake. Or more specifically a **probability of score** of how fake and how real each of these images are. \n",
    "\n",
    "After that, the predictions are **compared** using **BCE loss** with the desired labels for fake and real. This **updates** the parameters $\\theta_d$ of the **discriminator**."
   ]
  },
  {
   "cell_type": "markdown",
   "id": "406a85df-1deb-4e21-9f61-52a9a7e38988",
   "metadata": {},
   "source": [
    "### Train the Generator\n",
    "\n",
    "The **generator** generates a few **fake examples** $\\hat{X}$ using noise $\\xi$ as input. These are passed into the **discriminator**. But in this case the **discriminator** only sees fake examples from the **generator** which pretends these are real, it doesn't see the real examples at all.\n",
    "\n",
    "Then the discriminator makes predictions $\\hat{y}$ of how real or fake these are and after that the predictions are **compared** using the **BCE loss** with all the labels equal to **real**, because the generator is trying to get these fake images to be equal to real ($y = 1$) as closely as possible. After computing the cost, the gradient is then propagated backwards and the parameters $\\theta_g$ of the **generator** are updated."
   ]
  },
  {
   "cell_type": "markdown",
   "id": "529074c5-c942-4ab9-bc58-813cf0a925dc",
   "metadata": {},
   "source": [
    "### Noise vector\n",
    "\n",
    "The **noise vector** $z$ is making sure the images generated from the same class $y$ don't look all the same. \n",
    "\n",
    "It is generated randomly, usually by sampling random numbers either from an **uniform distribution** $z \\sim \\mathcal{U}(I)$, or from the **normal distribution** $z \\sim \\mathcal{N}(0, I)$ with the identity matrix $I$.\n",
    "\n",
    "\n"
   ]
  },
  {
   "cell_type": "markdown",
   "id": "1cde889c-b454-4a95-9c3c-60a005e2ab8e",
   "metadata": {},
   "source": [
    "### Truncation\n",
    "\n",
    "Truncation samples $z$ from a truncated normal distribution where the tails are cut off at different **truncation values** $t$.\n",
    "\n",
    "Tuning the truncation tunes **fidelity** (German: Treue, Genauigkeit) and **diversity** (German: Vielfalt). Having a lot of fidelity is not always the goal from a model that's supposed to model the realm of all possible human faces."
   ]
  },
  {
   "cell_type": "code",
   "execution_count": 2,
   "id": "7b68a96a-df1b-4782-8ee2-879d059e64bc",
   "metadata": {},
   "outputs": [
    {
     "data": {
      "image/png": "[encoded data removed]",
      "text/plain": [
       "<Figure size 432x288 with 1 Axes>"
      ]
     },
     "metadata": {
      "needs_background": "light"
     },
     "output_type": "display_data"
    }
   ],
   "source": [
    "from scipy.stats import truncnorm, norm\n",
    "import matplotlib.pyplot as plt\n",
    "\n",
    "trunc = 1\n",
    "mean = 0\n",
    "std = 1\n",
    "\n",
    "x = np.linspace(-3, 3, 1000)\n",
    "\n",
    "plt.plot(x, truncnorm.pdf(x, -trunc/std, trunc/std, loc=mean, scale=std), label=f't = {trunc}')\n",
    "plt.plot(x, norm.pdf(x, loc=mean, scale=std), label=r'$z \\sim \\mathcal{N}(0, 1)$')\n",
    "plt.legend(fontsize=12);"
   ]
  },
  {
   "cell_type": "markdown",
   "id": "311c83c5-0fe6-4022-99ca-4f5a02541946",
   "metadata": {},
   "source": [
    "A truncation value of **1** means a **low truncation** (**high diversity**) and a truncation value of **0** means **all truncation** except for the mean (**high quality/fidelity**). \n",
    "\n",
    "A lower value increases fidelity and decreases diversity, and vice versa."
   ]
  },
  {
   "cell_type": "markdown",
   "id": "024374c7-a619-4842-b7c2-8e8f3afc2fc2",
   "metadata": {},
   "source": [
    "# Example of an MNIST GAN with PyTorch"
   ]
  },
  {
   "cell_type": "code",
   "execution_count": 3,
   "id": "1101c997-8ec1-4709-aed9-75eb1e0344ee",
   "metadata": {},
   "outputs": [],
   "source": [
    "import torch\n",
    "from torch import nn\n",
    "from torchvision import transforms\n",
    "from torchvision.datasets import MNIST\n",
    "from torch.utils.data import DataLoader"
   ]
  },
  {
   "cell_type": "markdown",
   "id": "a305556c-efd6-49d0-af98-b5f70da34c96",
   "metadata": {},
   "source": [
    "### Generator\n",
    "\n",
    "This generator is a neural network with **fully connected** hidden layers."
   ]
  },
  {
   "cell_type": "code",
   "execution_count": 4,
   "id": "acd9ec4d-a32b-4afa-a12f-3182514f6a8d",
   "metadata": {},
   "outputs": [],
   "source": [
    "class Generator(nn.Module):\n",
    "\n",
    "    def __init__(self, z_dim=10, im_dim=784):\n",
    "        super(Generator, self).__init__()\n",
    "        self.generator = nn.Sequential(\n",
    "            nn.Linear(z_dim, 128),\n",
    "            nn.BatchNorm1d(128),\n",
    "            nn.ReLU(inplace=True),\n",
    "            nn.Linear(128, 256),\n",
    "            nn.BatchNorm1d(256),\n",
    "            nn.ReLU(inplace=True),\n",
    "            nn.Linear(256, 512),\n",
    "            nn.BatchNorm1d(512),\n",
    "            nn.ReLU(inplace=True),\n",
    "            nn.Linear(512, 1024),\n",
    "            nn.BatchNorm1d(1024),\n",
    "            nn.ReLU(inplace=True),\n",
    "            nn.Linear(1024, im_dim),\n",
    "            nn.Sigmoid()\n",
    "        )\n",
    "\n",
    "    def forward(self, noise):\n",
    "        return self.generator(noise)\n"
   ]
  },
  {
   "cell_type": "markdown",
   "id": "34b3cc30-a57e-481f-9486-4259b76cfe36",
   "metadata": {},
   "source": [
    "### Discriminator\n",
    "\n",
    "This discriminator is a neural network with **fully connected** hidden layers."
   ]
  },
  {
   "cell_type": "code",
   "execution_count": 5,
   "id": "19fe997e-c693-4895-8b6b-c3db810cc6aa",
   "metadata": {},
   "outputs": [],
   "source": [
    "class Discriminator(nn.Module):\n",
    "\n",
    "    def __init__(self, im_dim=784):\n",
    "        super(Discriminator, self).__init__()\n",
    "        self.discriminator = nn.Sequential(\n",
    "            nn.Linear(im_dim, 512),\n",
    "            nn.LeakyReLU(0.2, inplace=True),\n",
    "            nn.Linear(512, 256),\n",
    "            nn.LeakyReLU(0.2, inplace=True),\n",
    "            nn.Linear(256, 128),\n",
    "            nn.LeakyReLU(0.2, inplace=True),\n",
    "            nn.Linear(128, 1)\n",
    "        )\n",
    "\n",
    "    def forward(self, image):\n",
    "        return self.discriminator(image)\n"
   ]
  },
  {
   "cell_type": "markdown",
   "id": "b52871ae-d629-4cb9-bdb6-b0f8de5e6473",
   "metadata": {},
   "source": [
    "### Training"
   ]
  },
  {
   "cell_type": "code",
   "execution_count": 6,
   "id": "74948746-3169-44a9-8c8a-2835948fefad",
   "metadata": {},
   "outputs": [],
   "source": [
    "batch_size = 128\n",
    "lr = 0.00001\n",
    "z_dim = 64\n",
    "\n",
    "dataloader = DataLoader(MNIST('.', download=True, transform=transforms.ToTensor()), batch_size=batch_size, shuffle=True)\n",
    "n_train_set = len(dataloader)\n",
    "\n",
    "generator = Generator(z_dim)\n",
    "generator_optim = torch.optim.Adam(generator.parameters(), lr=lr)\n",
    "\n",
    "discriminator = Discriminator()\n",
    "discriminator_optim = torch.optim.Adam(discriminator.parameters(), lr=lr)\n",
    "\n",
    "criterion = nn.BCEWithLogitsLoss()"
   ]
  },
  {
   "cell_type": "code",
   "execution_count": null,
   "id": "ea0d5947-c937-424e-ac2e-000b9f9b8e38",
   "metadata": {},
   "outputs": [],
   "source": [
    "n_epochs = 1000\n",
    "mean_g_loss, mean_d_loss = 0, 0\n",
    "\n",
    "for epoch in range(1, n_epochs + 1):\n",
    "    for real, _ in dataloader:\n",
    "        cur_batch_size = len(real)\n",
    "        real = real.view(cur_batch_size, -1)\n",
    "\n",
    "        discriminator_optim.zero_grad()\n",
    "        fake_noise = torch.randn(cur_batch_size, z_dim)\n",
    "        fake = generator(fake_noise)\n",
    "        fake_pred = discriminator(fake.detach())\n",
    "        fake_loss = criterion(fake_pred, torch.zeros_like(fake_pred))\n",
    "        real_pred = discriminator(real)\n",
    "        real_loss = criterion(real_pred, torch.ones_like(real_pred))\n",
    "        d_loss = (fake_loss + real_loss) / 2\n",
    "        d_loss.backward(retain_graph=True)\n",
    "        discriminator_optim.step()\n",
    "        \n",
    "        generator_optim.zero_grad()\n",
    "        fake_noise = torch.randn(cur_batch_size, z_dim)\n",
    "        fake = generator(fake_noise)\n",
    "        fake_pred = discriminator(fake)\n",
    "        g_loss = criterion(fake_pred, torch.ones_like(fake_pred))\n",
    "        g_loss.backward()\n",
    "        generator_optim.step()\n",
    "\n",
    "        mean_d_loss += d_loss.item() / n_train_set\n",
    "        mean_g_loss += g_loss.item() / n_train_set\n",
    "    \n",
    "    print(f'Epoch {epoch}: Generator loss: {mean_g_loss}, Discriminator loss: {mean_d_loss}')\n",
    "    mean_g_loss = 0\n",
    "    mean_d_loss = 0\n"
   ]
  },
  {
   "cell_type": "code",
   "execution_count": null,
   "id": "6889e1b4-fa30-4461-9c27-abad5f1e6bf6",
   "metadata": {},
   "outputs": [],
   "source": []
  }
 ],
 "metadata": {
  "kernelspec": {
   "display_name": "Python 3 (ipykernel)",
   "language": "python",
   "name": "python3"
  },
  "language_info": {
   "codemirror_mode": {
    "name": "ipython",
    "version": 3
   },
   "file_extension": ".py",
   "mimetype": "text/x-python",
   "name": "python",
   "nbconvert_exporter": "python",
   "pygments_lexer": "ipython3",
   "version": "3.9.10"
  }
 },
 "nbformat": 4,
 "nbformat_minor": 5
}
