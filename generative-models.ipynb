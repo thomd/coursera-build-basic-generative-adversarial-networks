{
 "cells": [
  {
   "cell_type": "markdown",
   "id": "ac1451fe-9c74-4819-898d-d37cee813ae2",
   "metadata": {},
   "source": [
    "# Generative Models\n",
    "\n",
    "## Discriminative Models\n",
    "\n",
    "**Discriminative models** are typically used for **classification** in machine learning. They learn how to **distinguish between classes** $Y$ given a set of **features** $X$:\n",
    "\n",
    "$$\n",
    "X \\to Y\n",
    "$$\n",
    "\n",
    "In other words, they model a **probability** $P$ of a class $Y$ given a set of features $X$:\n",
    "\n",
    "$$\n",
    "P(Y|X)\n",
    "$$"
   ]
  },
  {
   "cell_type": "markdown",
   "id": "8e0a9eda-7e00-483e-9b02-da8080f82896",
   "metadata": {},
   "source": [
    "## Generative Models\n",
    "\n",
    "**Generative models** try to learn how to make a **realistic representation** of some class: \n",
    "\n",
    "$$\n",
    "\\xi, Y \\to X\n",
    "$$\n",
    "\n",
    "They take some **random noise** input $\\xi$ (greek letter 'xi') and sometimes a **class** $Y$. From these inputs, it's goal is to generate a set of **features** $X$ that look realistic. The noise is to ensure that what's generated isn't actually the same each time.\n",
    "\n",
    "More generally, generative models try to capture the **probability distribution** of the **features** $X$ given a **class** $Y$:\n",
    "\n",
    "$$\n",
    "P(X|Y)\n",
    "$$\n",
    "\n",
    "If you're only generating **one class**, it's just the probability over all the features $X$:\n",
    "\n",
    "$$\n",
    "P(X)\n",
    "$$\n",
    "\n",
    "### Variational Autoencoders - VAE\n",
    "\n",
    "There are many types of generative models, the most popular ones are **variational autoencoders** (VAE) and **generative adversarial networks** (GAN).\n",
    "\n",
    "VAEs contain two neural networks, an **encoder** and a **decoder**. They learn first by feeding in realistic images into the encoder to find a good way of representing that image in a **latent space**. A point in the latent space can be represented by a **vector**.\n",
    "\n",
    "The VAE takes this latent representation, or a point close to it, and put it through the **decoder**. The goal of the decoder is to reconstruct the realistic image that the encoder saw before. \n",
    "\n",
    "After training of the decoder, we remove the encoder and we can pick random points in the latent space, and the decoder will have learned to produce an image of a dog. \n",
    "\n",
    "The **variational** part actually inject **some noise** into this whole model and training process. Instead of having the encoder encode the image into a single point in that latent space, the encoder actually encodes the image onto a whole **distribution** and then samples a point on that distribution to feed into the decoder to then produce a realistic image.\n",
    "\n",
    "A good distribution over the latent space is important for VAEs. \n",
    "\n",
    "### Generative Adversarial Networks - GAN\n",
    "\n",
    "The **generator** takes in some random noise input. As an output it generate an image over time. The **generator** is in some sense similar to the **decoder in a VAE**. What's different is that there's no guiding encoder that determines what the noise vector should look like, that's input into the generator. \n",
    "\n",
    "Instead, there's a discriminator looking at **fake** and **real** images trying to figure out which ones are real and which ones are fake. Over time, each model tries to one up each other. These models compete against each other which is why they're called **adversarial**.\n",
    "\n",
    "The two models compete with each other and reach a point where realistic examples are produced by the generator."
   ]
  },
  {
   "cell_type": "markdown",
   "id": "13c54732-7fe3-43b1-afb7-e0c498bc6b43",
   "metadata": {},
   "source": [
    "## BCE Cost Function\n",
    "\n",
    "The **Binary Cross Entropy** function (BCE) is used for training GANs. It's useful for these models, because it is designed for classification tasks, where there are **two categories** like real and fake.\n",
    "\n",
    "The BCE calculates as\n",
    "\n",
    "$$\n",
    "\\begin{align}\n",
    "J(\\theta) &= -\\frac{1}{m} \\sum_{i=1}^m \\big(y_i log(\\hat{y}_i) + (1 - y_i) \\, log(1 - \\hat{y}_i)\\big) \\\\\n",
    "&= -\\frac{1}{m} \\sum_{i=1}^m \\big(y_i log(h(x_i, \\theta)) + (1 - y_i \\, log(1 - h(x_i, \\theta))\\big)\n",
    "\\end{align}\n",
    "$$\n",
    "\n",
    "with the number of examples $m$ in the entire **batch**, the **prediction** $\\hat{y}$, the **label** $y$, the **features** $x$ and the **parameters** $\\theta$"
   ]
  },
  {
   "cell_type": "code",
   "execution_count": 26,
   "id": "1f1646a9-7bfa-4826-8932-3ff82bb62281",
   "metadata": {},
   "outputs": [
    {
     "data": {
      "image/png": "[encoded data removed]",
      "text/plain": [
       "<Figure size 432x288 with 1 Axes>"
      ]
     },
     "metadata": {
      "needs_background": "light"
     },
     "output_type": "display_data"
    }
   ],
   "source": [
    "import numpy as np\n",
    "import matplotlib.pyplot as plt\n",
    "\n",
    "y_hat = np.linspace(0, 1, 200)[1:-1]\n",
    "bce = lambda y, y_hat: - y * np.log2(y_hat) - (1 - y) * np.log2(1 - y_hat)\n",
    "\n",
    "plt.xlabel(r'Prediction $\\hat{y}$', fontsize=14)\n",
    "plt.ylabel('BCE Loss', fontsize=14)\n",
    "plt.plot(y_hat, bce(0, y_hat), label=r'$y = 0$')\n",
    "plt.plot(y_hat, bce(1, y_hat), label=r'$y = 1$')\n",
    "plt.legend(fontsize='large');"
   ]
  },
  {
   "cell_type": "markdown",
   "id": "e1e2aabc-62a2-4a0a-9d94-68ce61164483",
   "metadata": {},
   "source": [
    "The BCE function has two parts, one relevant for each **class** label $y=0$ and $y=1$. \n",
    "\n",
    "It is close to **zero**, when label $y$ and prediction $\\hat{y}$ are **similar**. It is **infinity**, when the label $y$ and prediction $\\hat{y}$ are **different**."
   ]
  },
  {
   "cell_type": "code",
   "execution_count": null,
   "id": "08f779d5-1f08-4543-8b88-881948d4395b",
   "metadata": {},
   "outputs": [],
   "source": []
  }
 ],
 "metadata": {
  "kernelspec": {
   "display_name": "Python 3 (ipykernel)",
   "language": "python",
   "name": "python3"
  },
  "language_info": {
   "codemirror_mode": {
    "name": "ipython",
    "version": 3
   },
   "file_extension": ".py",
   "mimetype": "text/x-python",
   "name": "python",
   "nbconvert_exporter": "python",
   "pygments_lexer": "ipython3",
   "version": "3.10.2"
  }
 },
 "nbformat": 4,
 "nbformat_minor": 5
}
