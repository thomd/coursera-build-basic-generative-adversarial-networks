{
 "cells": [
  {
   "cell_type": "markdown",
   "id": "cb1b44d3-398c-4148-80a8-3d4df0aa45de",
   "metadata": {},
   "source": [
    "# Generative Models\n",
    "\n",
    "## Generative Models vs. Discriminative Models\n",
    "\n",
    "### Discriminative Models\n",
    "\n",
    "**Discriminative models** are typically used for **classification** in machine learning. They learn how to **distinguish between classes** given a set of **features**:\n",
    "\n",
    "$$\n",
    "X \\to Y\n",
    "$$\n",
    "\n",
    "In other words, they they model a **probability** $P$ of a class $Y$ given a set of features $X$:\n",
    "\n",
    "$$\n",
    "P(Y|X)\n",
    "$$\n",
    "\n",
    "### Generative Models\n",
    "\n",
    "**Generative models** try to learn how to make a **realistic representation** of some class: \n",
    "\n",
    "$$\n",
    "\\xi, Y \\to X\n",
    "$$\n",
    "\n",
    "They take some **random** input $\\xi$ (greek letter 'xi') and sometimes a **class** $Y$. From these inputs, it's goal is to generate a set of **features** $X$ that look realistic."
   ]
  },
  {
   "cell_type": "code",
   "execution_count": null,
   "id": "90fd66f4-ba7f-4718-b42c-ca6a4269f7aa",
   "metadata": {},
   "outputs": [],
   "source": []
  }
 ],
 "metadata": {
  "kernelspec": {
   "display_name": "Python 3 (ipykernel)",
   "language": "python",
   "name": "python3"
  },
  "language_info": {
   "codemirror_mode": {
    "name": "ipython",
    "version": 3
   },
   "file_extension": ".py",
   "mimetype": "text/x-python",
   "name": "python",
   "nbconvert_exporter": "python",
   "pygments_lexer": "ipython3",
   "version": "3.10.2"
  }
 },
 "nbformat": 4,
 "nbformat_minor": 5
}
