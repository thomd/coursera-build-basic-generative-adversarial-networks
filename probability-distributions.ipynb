{
 "cells": [
  {
   "cell_type": "markdown",
   "id": "2153396d-e2c2-490d-bb46-f931314f903b",
   "metadata": {},
   "source": [
    "# Probability Distributions\n",
    "\n",
    "### What is the difference between probability and probability distribution?\n",
    "\n",
    "* **Probability** is the **measure of the likelihood** that an event will occur.\n",
    "\n",
    "Probability of an event (denoted by capital $P$) is the chance of an outcome of an event when all the outcomes of the event have taken place:\n",
    "\n",
    "$$\n",
    "P(X = x)\n",
    "$$\n",
    "\n",
    "* **Probability Distribution** (denoted by small $p$) is the distribution curve plotted of the probabilities of the random variables.\n",
    "\n",
    "Knowing the **probability distribution function** (pdf) of an event allows you to **predict the outcome** of an event.\n",
    "\n",
    "The probability that a **discrete random variable** $X$ can take a specific value $x$ is $p\\,(x)$, that is \n",
    "\n",
    "$$\n",
    "P(X = x) = p\\,(x) = p_x\n",
    "$$\n",
    "\n",
    "with\n",
    "\n",
    "$$\n",
    "0 \\le p\\,(x) \\le 1 \\quad \\text{and} \\quad \\sum_i p\\,(x_i) = 1\n",
    "$$"
   ]
  },
  {
   "cell_type": "markdown",
   "id": "3f8064ee-08d2-4592-a13d-a48ed617272e",
   "metadata": {},
   "source": [
    "### What does the term **probability distribution** mean in GAN?\n",
    "\n",
    "Source: [reddit.com](https://www.reddit.com/r/learnmachinelearning/comments/k2i7t9/comment/ge1u230/?utm_source=share&utm_medium=web2x&context=3)\n",
    "\n",
    "Supposed we have **samples of times** from running competitions and we'd like to have a generator that can produce times that look like **real data**. We create a GAN whose generator has one output node, i.e. the generator produces **one dimensional data**. Let's call this variable $t$ which has a probability distribution $p(t)$. \n",
    "\n",
    "Training a GAN results in a generator that produces times $t$ that follow the **distribution** $p(t)$. In other words, if you generate a large number of examples, they would share a distribution with the real dataset.\n",
    "\n",
    "If the data had a **second variable**, such as runner height $h$, the generator would need **two output nodes**. The data has a **joint probability distribution** of $p(t, h)$ and the generator is trying to approximate it. \n",
    "\n",
    "If height and time are completely **independent**, then $p(t, h) = p(t) \\cdot p(h)$. In case of any correlation, this is not true as there is a relationship between the two variables.\n",
    "\n",
    "**Image data** consists of a large number of pixels that each take on their own value. Let's call the value of the pixel in row $i$ and column $j$ as $p^{\\,(i,j)}$. Over the large dataset, $p^{(i,j)}$ takes a range of values (a **distribution**). In addition, image data does typically have related values with strong **correlations of neighboring pixels** and weaker correlations with distant pixels.\n",
    "\n",
    "The distribution of an image dataset is defined on the pixel values and also describes the correlations between pixels which leads to structures in the images.\n",
    "\n",
    "Regarding the **MNIST** data, it is mostly made up of straight and curved lines. A long, straight line has a **high probability** because it occurs in several numbers. However, there aren't images that have a bunch of random dots everywhere, meaning such an image has **low probability**."
   ]
  },
  {
   "cell_type": "code",
   "execution_count": null,
   "id": "0ab7968b-a112-4d62-b46d-90eb5de87fb0",
   "metadata": {},
   "outputs": [],
   "source": []
  }
 ],
 "metadata": {
  "kernelspec": {
   "display_name": "Python 3 (ipykernel)",
   "language": "python",
   "name": "python3"
  },
  "language_info": {
   "codemirror_mode": {
    "name": "ipython",
    "version": 3
   },
   "file_extension": ".py",
   "mimetype": "text/x-python",
   "name": "python",
   "nbconvert_exporter": "python",
   "pygments_lexer": "ipython3",
   "version": "3.9.10"
  }
 },
 "nbformat": 4,
 "nbformat_minor": 5
}
