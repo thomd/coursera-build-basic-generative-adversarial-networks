{
 "cells": [
  {
   "cell_type": "markdown",
   "id": "34e66785-49d6-438d-bb4f-8ff846ebe77f",
   "metadata": {},
   "source": [
    "# Conditional Generation & Controllable Generation\n",
    "\n",
    "**Conditional** generation is about\n",
    "\n",
    "* generating examples **from classes you want**\n",
    "* having a dataset that **needs to be labeled**\n",
    "* **appending a class-vector** to the input\n",
    "\n",
    "**Controllable** generation is about\n",
    "\n",
    "* generating examples **with the features you want**\n",
    "* having a dataset that **doesn't need to be labeled**\n",
    "* **manipulating the z-vector** input"
   ]
  },
  {
   "cell_type": "markdown",
   "id": "68e20af1-94c9-4a36-bed3-d7510fc0e157",
   "metadata": {},
   "source": [
    "## Conditional Generation\n",
    "\n",
    "Conditional generation allows to generate examples from selected classes.\n",
    "\n",
    "**Unconditional Generation**:\n",
    "\n",
    "* Generate examples from **random classes**\n",
    "* Training dataset **doesn't need to be labeled**\n",
    "\n",
    "**Conditional Generation**:\n",
    "\n",
    "* Generate examples from **the class you want**\n",
    "* Training dataset needs to be **labeled**\n"
   ]
  },
  {
   "cell_type": "markdown",
   "id": "29934cf6-9826-48dc-bc2c-7de741595f6c",
   "metadata": {},
   "source": [
    "### Input Class Information\n",
    "\n",
    "The class information is differently added for the discriminator and generator. \n",
    "\n",
    "For the **discriminator**, the class information is **appended as a channel** (or **one-hot matrices**), whereas for the **generator**, the class is encoded by **appending a one-hot vector** to the noise to form a long vector input.\n",
    "\n",
    "This requires **no changes to the architectures of the generator or discriminator**, only changes to the data passed to both."
   ]
  },
  {
   "cell_type": "markdown",
   "id": "ec73deec-c2fc-4774-b703-e51f8870cfce",
   "metadata": {},
   "source": [
    "## Controllable Generation\n",
    "\n",
    "Controllable generation lets you **control the features** in the output from your GAN. In contrast, with conditional generation, there's **no need for a labeled training dataset**. \n",
    "\n",
    "To change the output in some way with controllable generation, the input noise vector $z$ is tweaked. \n",
    "\n",
    "### Z-Space\n",
    "\n",
    "In controllable generation, you need to find the **directions** in the **Z-space** related to changes of the desired **features** on the output of your GAN. \n",
    "\n",
    "As the output **features** are **correlated**, i.e. different features have a high correlation in the data set it becomes difficult to control specific features without modifying the ones that are correlated to them.\n",
    "\n",
    "Typically the **Z-space** is highly **entangled**, i.e. same features of the z-vector have an impace to different output features. This is due to the nature of neuronal nets. This is a very common problem when the Z space doesn't have enough **dimensions** relative to the number of features you want to control in the output because then it actually can't **map things one-to-one**.\n",
    "\n",
    "This means, that it is **not possible to control single output features**.\n",
    "\n",
    "A way to mitigate this is by using a **pre-trained classifier** for the desired output features which can be used to find the correct directions in the Z-Sapce. To find these directions, the updates are done just to the **noise vector**."
   ]
  },
  {
   "cell_type": "code",
   "execution_count": null,
   "id": "3381338a-2403-4c7d-83ee-97d1c42735aa",
   "metadata": {},
   "outputs": [],
   "source": []
  }
 ],
 "metadata": {
  "kernelspec": {
   "display_name": "Python 3 (ipykernel)",
   "language": "python",
   "name": "python3"
  },
  "language_info": {
   "codemirror_mode": {
    "name": "ipython",
    "version": 3
   },
   "file_extension": ".py",
   "mimetype": "text/x-python",
   "name": "python",
   "nbconvert_exporter": "python",
   "pygments_lexer": "ipython3",
   "version": "3.10.9"
  }
 },
 "nbformat": 4,
 "nbformat_minor": 5
}
