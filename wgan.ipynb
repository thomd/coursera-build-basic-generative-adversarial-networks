{
 "cells": [
  {
   "cell_type": "markdown",
   "id": "5af0098a-9207-4ed9-b776-f4f403d568e8",
   "metadata": {},
   "source": [
    "# Wasserstein GANs with Gradient Penalty"
   ]
  },
  {
   "cell_type": "markdown",
   "id": "27a11ba0-fb69-4c46-b31e-4d9a5f137b8f",
   "metadata": {},
   "source": [
    "GAN have the following problems:\n",
    "\n",
    "### Mode Collapse\n",
    "\n",
    "Any __peak__ on a density funtion is a __mode__.\n",
    "\n",
    "__Mode collapse__ occurs when the generator gets stuck generating one mode. The discriminator will eventually learn to differentiate the generator's fakes when this happens and outskill it, ending the model's learning.\n",
    "\n",
    "### BCE Loss\n",
    "\n"
   ]
  },
  {
   "cell_type": "code",
   "execution_count": null,
   "id": "0707a53e-c836-444c-bef2-696aac5bde5b",
   "metadata": {},
   "outputs": [],
   "source": []
  }
 ],
 "metadata": {
  "kernelspec": {
   "display_name": "Python 3 (ipykernel)",
   "language": "python",
   "name": "python3"
  },
  "language_info": {
   "codemirror_mode": {
    "name": "ipython",
    "version": 3
   },
   "file_extension": ".py",
   "mimetype": "text/x-python",
   "name": "python",
   "nbconvert_exporter": "python",
   "pygments_lexer": "ipython3",
   "version": "3.10.9"
  }
 },
 "nbformat": 4,
 "nbformat_minor": 5
}
